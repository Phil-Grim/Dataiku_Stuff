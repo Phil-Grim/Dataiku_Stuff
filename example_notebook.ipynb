{
 "cells": [
  {
   "cell_type": "code",
   "execution_count": null,
   "metadata": {},
   "outputs": [],
   "source": [
    "import dataiku\n",
    "import pandas as pd\n",
    "import openpyxl\n",
    "\n",
    "def dataframe_to_xlsx(input_dataframe, folder_name, output_file_name):\n",
    "    folder = dataiku.Folder(folder_name)\n",
    "    folder_path = folder.get_path()\n",
    "    folder_path = folder_path + '/' + output_file_name + '.xlsx'\n",
    "    writer = pd.ExcelWriter(folder_path, engine='openpyxl')\n",
    "    input_dataframe.to_excel(writer, index=False, encoding='utf-8')\n",
    "    writer.save()"
   ]
  }
 ],
 "metadata": {
  "language_info": {
   "name": "python"
  },
  "orig_nbformat": 4
 },
 "nbformat": 4,
 "nbformat_minor": 2
}
