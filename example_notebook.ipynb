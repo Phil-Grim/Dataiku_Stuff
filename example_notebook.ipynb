def example_function(my_name):
  phrase = f'my name is {my_name}'
  return phrase
